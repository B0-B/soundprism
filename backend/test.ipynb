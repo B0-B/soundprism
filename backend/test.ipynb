{
 "cells": [
  {
   "cell_type": "code",
   "execution_count": 4,
   "metadata": {},
   "outputs": [],
   "source": [
    "from sound import sine"
   ]
  },
  {
   "cell_type": "code",
   "execution_count": 13,
   "metadata": {},
   "outputs": [
    {
     "ename": "ValueError",
     "evalue": "operands could not be broadcast together with shapes (3,) (4,) ",
     "output_type": "error",
     "traceback": [
      "\u001b[1;31m---------------------------------------------------------------------------\u001b[0m",
      "\u001b[1;31mValueError\u001b[0m                                Traceback (most recent call last)",
      "\u001b[1;32mc:\\Users\\weezl\\Desktop\\B0-B\\Scripting\\snyth\\backend\\test.ipynb Cell 2'\u001b[0m in \u001b[0;36m<cell line: 5>\u001b[1;34m()\u001b[0m\n\u001b[0;32m      <a href='vscode-notebook-cell:/c%3A/Users/weezl/Desktop/B0-B/Scripting/snyth/backend/test.ipynb#ch0000002?line=2'>3</a>\u001b[0m a \u001b[39m=\u001b[39m np\u001b[39m.\u001b[39marray([\u001b[39m1\u001b[39m,\u001b[39m2\u001b[39m,\u001b[39m3\u001b[39m])\n\u001b[0;32m      <a href='vscode-notebook-cell:/c%3A/Users/weezl/Desktop/B0-B/Scripting/snyth/backend/test.ipynb#ch0000002?line=3'>4</a>\u001b[0m b \u001b[39m=\u001b[39m np\u001b[39m.\u001b[39marray([\u001b[39m1\u001b[39m,\u001b[39m2\u001b[39m,\u001b[39m3\u001b[39m,\u001b[39m4\u001b[39m])\n\u001b[1;32m----> <a href='vscode-notebook-cell:/c%3A/Users/weezl/Desktop/B0-B/Scripting/snyth/backend/test.ipynb#ch0000002?line=4'>5</a>\u001b[0m c \u001b[39m=\u001b[39m np\u001b[39m.\u001b[39;49madd(a,b)\n",
      "\u001b[1;31mValueError\u001b[0m: operands could not be broadcast together with shapes (3,) (4,) "
     ]
    }
   ],
   "source": [
    "import numpy as np\n",
    "\n",
    "a = np.array([1,2,3])\n",
    "b = np.array([1,2,3,4])\n",
    "c = np.add(a,b)"
   ]
  },
  {
   "cell_type": "code",
   "execution_count": 2,
   "metadata": {},
   "outputs": [
    {
     "ename": "TypeError",
     "evalue": "'float' object cannot be interpreted as an integer",
     "output_type": "error",
     "traceback": [
      "\u001b[1;31m---------------------------------------------------------------------------\u001b[0m",
      "\u001b[1;31mTypeError\u001b[0m                                 Traceback (most recent call last)",
      "\u001b[1;32mc:\\Users\\weezl\\Desktop\\B0-B\\Scripting\\snyth\\backend\\test.ipynb Cell 2'\u001b[0m in \u001b[0;36m<cell line: 2>\u001b[1;34m()\u001b[0m\n\u001b[0;32m      <a href='vscode-notebook-cell:/c%3A/Users/weezl/Desktop/B0-B/Scripting/snyth/backend/test.ipynb#ch0000001?line=0'>1</a>\u001b[0m \u001b[39mimport\u001b[39;00m \u001b[39mmatplotlib\u001b[39;00m\u001b[39m.\u001b[39;00m\u001b[39mpyplot\u001b[39;00m \u001b[39mas\u001b[39;00m \u001b[39mplt\u001b[39;00m\n\u001b[1;32m----> <a href='vscode-notebook-cell:/c%3A/Users/weezl/Desktop/B0-B/Scripting/snyth/backend/test.ipynb#ch0000001?line=1'>2</a>\u001b[0m plt\u001b[39m.\u001b[39mplot(sine(\u001b[39m500\u001b[39;49m))\n",
      "File \u001b[1;32mc:\\Users\\weezl\\Desktop\\B0-B\\Scripting\\snyth\\backend\\sound.py:28\u001b[0m, in \u001b[0;36msine\u001b[1;34m(frequency, T)\u001b[0m\n\u001b[0;32m     26\u001b[0m \u001b[39mif\u001b[39;00m T \u001b[39mis\u001b[39;00m \u001b[39mNone\u001b[39;00m:\n\u001b[0;32m     27\u001b[0m     T \u001b[39m=\u001b[39m \u001b[39m1\u001b[39m\u001b[39m/\u001b[39mfrequency\n\u001b[1;32m---> 28\u001b[0m \u001b[39mreturn\u001b[39;00m np\u001b[39m.\u001b[39msin( period[\u001b[39m\"\u001b[39m\u001b[39m1\u001b[39m\u001b[39m\"\u001b[39m] \u001b[39m*\u001b[39m frequency \u001b[39m*\u001b[39m np\u001b[39m.\u001b[39;49mlinspace(\u001b[39m0\u001b[39;49m, T, timeInterval(frequency)))\n",
      "File \u001b[1;32m<__array_function__ internals>:180\u001b[0m, in \u001b[0;36mlinspace\u001b[1;34m(*args, **kwargs)\u001b[0m\n",
      "File \u001b[1;32mc:\\Users\\weezl\\AppData\\Local\\Programs\\Python\\Python310\\lib\\site-packages\\numpy\\core\\function_base.py:120\u001b[0m, in \u001b[0;36mlinspace\u001b[1;34m(start, stop, num, endpoint, retstep, dtype, axis)\u001b[0m\n\u001b[0;32m     23\u001b[0m \u001b[39m@array_function_dispatch\u001b[39m(_linspace_dispatcher)\n\u001b[0;32m     24\u001b[0m \u001b[39mdef\u001b[39;00m \u001b[39mlinspace\u001b[39m(start, stop, num\u001b[39m=\u001b[39m\u001b[39m50\u001b[39m, endpoint\u001b[39m=\u001b[39m\u001b[39mTrue\u001b[39;00m, retstep\u001b[39m=\u001b[39m\u001b[39mFalse\u001b[39;00m, dtype\u001b[39m=\u001b[39m\u001b[39mNone\u001b[39;00m,\n\u001b[0;32m     25\u001b[0m              axis\u001b[39m=\u001b[39m\u001b[39m0\u001b[39m):\n\u001b[0;32m     26\u001b[0m     \u001b[39m\"\"\"\u001b[39;00m\n\u001b[0;32m     27\u001b[0m \u001b[39m    Return evenly spaced numbers over a specified interval.\u001b[39;00m\n\u001b[0;32m     28\u001b[0m \n\u001b[1;32m   (...)\u001b[0m\n\u001b[0;32m    118\u001b[0m \n\u001b[0;32m    119\u001b[0m \u001b[39m    \"\"\"\u001b[39;00m\n\u001b[1;32m--> 120\u001b[0m     num \u001b[39m=\u001b[39m operator\u001b[39m.\u001b[39;49mindex(num)\n\u001b[0;32m    121\u001b[0m     \u001b[39mif\u001b[39;00m num \u001b[39m<\u001b[39m \u001b[39m0\u001b[39m:\n\u001b[0;32m    122\u001b[0m         \u001b[39mraise\u001b[39;00m \u001b[39mValueError\u001b[39;00m(\u001b[39m\"\u001b[39m\u001b[39mNumber of samples, \u001b[39m\u001b[39m%s\u001b[39;00m\u001b[39m, must be non-negative.\u001b[39m\u001b[39m\"\u001b[39m \u001b[39m%\u001b[39m num)\n",
      "\u001b[1;31mTypeError\u001b[0m: 'float' object cannot be interpreted as an integer"
     ]
    }
   ],
   "source": [
    "import matplotlib.pyplot as plt\n",
    "plt.plot(sine(500))"
   ]
  }
 ],
 "metadata": {
  "kernelspec": {
   "display_name": "Python 3.10.0 64-bit",
   "language": "python",
   "name": "python3"
  },
  "language_info": {
   "codemirror_mode": {
    "name": "ipython",
    "version": 3
   },
   "file_extension": ".py",
   "mimetype": "text/x-python",
   "name": "python",
   "nbconvert_exporter": "python",
   "pygments_lexer": "ipython3",
   "version": "3.10.0"
  },
  "orig_nbformat": 4,
  "vscode": {
   "interpreter": {
    "hash": "bedeb2e9f93be382e47028f8d8ed5a063074046a8c3efaf76a8b1122db3d2a03"
   }
  }
 },
 "nbformat": 4,
 "nbformat_minor": 2
}
